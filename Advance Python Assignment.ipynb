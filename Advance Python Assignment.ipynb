{
 "cells": [
  {
   "cell_type": "markdown",
   "metadata": {},
   "source": [
    "Q.1 a) Write python code to create two arrays of 9 random number from uniform distribution b)\n",
    "Convert it to (3*3)\n",
    "c) Multiply two reshaped arrays"
   ]
  },
  {
   "cell_type": "code",
   "execution_count": 2,
   "metadata": {},
   "outputs": [],
   "source": [
    "import numpy as np"
   ]
  },
  {
   "cell_type": "code",
   "execution_count": 2,
   "metadata": {},
   "outputs": [
    {
     "data": {
      "text/plain": [
       "array([0.20006425, 0.24635426, 0.78407519, 0.99677439, 0.67518457,\n",
       "       0.71066051, 0.76658852, 0.9119027 , 0.46236852])"
      ]
     },
     "execution_count": 2,
     "metadata": {},
     "output_type": "execute_result"
    }
   ],
   "source": [
    "arr1 = np.random.uniform(0,1,9)\n",
    "arr1"
   ]
  },
  {
   "cell_type": "code",
   "execution_count": 3,
   "metadata": {},
   "outputs": [
    {
     "data": {
      "text/plain": [
       "array([0.57002322, 0.27152594, 0.04510701, 0.82480261, 0.01043667,\n",
       "       0.36919943, 0.2270364 , 0.81346449, 0.76472045])"
      ]
     },
     "execution_count": 3,
     "metadata": {},
     "output_type": "execute_result"
    }
   ],
   "source": [
    "arr2 = np.random.uniform(0,1,9)\n",
    "arr2"
   ]
  },
  {
   "cell_type": "code",
   "execution_count": 4,
   "metadata": {},
   "outputs": [
    {
     "data": {
      "text/plain": [
       "array([[0.20006425, 0.24635426, 0.78407519],\n",
       "       [0.99677439, 0.67518457, 0.71066051],\n",
       "       [0.76658852, 0.9119027 , 0.46236852]])"
      ]
     },
     "execution_count": 4,
     "metadata": {},
     "output_type": "execute_result"
    }
   ],
   "source": [
    "arr1 = arr1.reshape(3,3)\n",
    "arr1"
   ]
  },
  {
   "cell_type": "code",
   "execution_count": 5,
   "metadata": {},
   "outputs": [
    {
     "data": {
      "text/plain": [
       "array([[0.57002322, 0.27152594, 0.04510701],\n",
       "       [0.82480261, 0.01043667, 0.36919943],\n",
       "       [0.2270364 , 0.81346449, 0.76472045]])"
      ]
     },
     "execution_count": 5,
     "metadata": {},
     "output_type": "execute_result"
    }
   ],
   "source": [
    "arr2 = arr2.reshape(3,3)\n",
    "arr2"
   ]
  },
  {
   "cell_type": "code",
   "execution_count": 6,
   "metadata": {},
   "outputs": [
    {
     "data": {
      "text/plain": [
       "array([[0.11404127, 0.06689157, 0.03536729],\n",
       "       [0.82214211, 0.00704668, 0.26237545],\n",
       "       [0.1740435 , 0.74180046, 0.35358266]])"
      ]
     },
     "execution_count": 6,
     "metadata": {},
     "output_type": "execute_result"
    }
   ],
   "source": [
    "arr = arr1*arr2\n",
    "arr"
   ]
  },
  {
   "cell_type": "markdown",
   "metadata": {},
   "source": [
    "Q.2 list1 = [23, 34, 43, 58, 25]\n",
    "a) Convert list1 to array\n",
    "b) Write a python code to calculate the sum of all elements in the given list using\n",
    "NumPy?\n",
    "c) Subtract 5 from each element of the array"
   ]
  },
  {
   "cell_type": "code",
   "execution_count": 7,
   "metadata": {},
   "outputs": [
    {
     "data": {
      "text/plain": [
       "array([23, 34, 43, 58, 25])"
      ]
     },
     "execution_count": 7,
     "metadata": {},
     "output_type": "execute_result"
    }
   ],
   "source": [
    "list1 = [23, 34, 43, 58, 25]\n",
    "list1 = np.array(list1)\n",
    "list1"
   ]
  },
  {
   "cell_type": "code",
   "execution_count": 8,
   "metadata": {},
   "outputs": [
    {
     "data": {
      "text/plain": [
       "183"
      ]
     },
     "execution_count": 8,
     "metadata": {},
     "output_type": "execute_result"
    }
   ],
   "source": [
    "np.sum(list1)"
   ]
  },
  {
   "cell_type": "code",
   "execution_count": 9,
   "metadata": {},
   "outputs": [
    {
     "name": "stdout",
     "output_type": "stream",
     "text": [
      "18\n",
      "29\n",
      "38\n",
      "53\n",
      "20\n"
     ]
    }
   ],
   "source": [
    "for i in list1:\n",
    "    print(i-5)"
   ]
  },
  {
   "cell_type": "markdown",
   "metadata": {},
   "source": [
    "Q.3 Write a python program to solve the following questions.\n",
    "List1 = [ i for i in range (1,5)]\n",
    "a) Convert this list to an array.\n",
    "b) Convert array into (2*2) dimension\n",
    "c) Create a diagonal matrix with diagonal elements in list1"
   ]
  },
  {
   "cell_type": "code",
   "execution_count": 4,
   "metadata": {},
   "outputs": [
    {
     "data": {
      "text/plain": [
       "[1, 2, 3, 4]"
      ]
     },
     "execution_count": 4,
     "metadata": {},
     "output_type": "execute_result"
    }
   ],
   "source": [
    "List1 = [ i for i in range (1,5)]\n",
    "List1"
   ]
  },
  {
   "cell_type": "code",
   "execution_count": 11,
   "metadata": {},
   "outputs": [
    {
     "data": {
      "text/plain": [
       "array([1, 2, 3, 4])"
      ]
     },
     "execution_count": 11,
     "metadata": {},
     "output_type": "execute_result"
    }
   ],
   "source": [
    "List1 = np.array(List1)\n",
    "List1"
   ]
  },
  {
   "cell_type": "code",
   "execution_count": 12,
   "metadata": {},
   "outputs": [
    {
     "data": {
      "text/plain": [
       "array([[1, 2],\n",
       "       [3, 4]])"
      ]
     },
     "execution_count": 12,
     "metadata": {},
     "output_type": "execute_result"
    }
   ],
   "source": [
    "List1.reshape(2,2)"
   ]
  },
  {
   "cell_type": "code",
   "execution_count": 6,
   "metadata": {},
   "outputs": [
    {
     "data": {
      "text/plain": [
       "array([[1, 0, 0, 0],\n",
       "       [0, 2, 0, 0],\n",
       "       [0, 0, 3, 0],\n",
       "       [0, 0, 0, 4]])"
      ]
     },
     "execution_count": 6,
     "metadata": {},
     "output_type": "execute_result"
    }
   ],
   "source": [
    "np.diagflat(List1)"
   ]
  },
  {
   "cell_type": "markdown",
   "metadata": {},
   "source": [
    "Q.4 Write a python code to find even and odd numbers between (1,101)?"
   ]
  },
  {
   "cell_type": "code",
   "execution_count": 14,
   "metadata": {},
   "outputs": [
    {
     "name": "stdout",
     "output_type": "stream",
     "text": [
      "Number is odd:  1\n",
      "Number is even:  2\n",
      "Number is odd:  3\n",
      "Number is even:  4\n",
      "Number is odd:  5\n",
      "Number is even:  6\n",
      "Number is odd:  7\n",
      "Number is even:  8\n",
      "Number is odd:  9\n",
      "Number is even:  10\n",
      "Number is odd:  11\n",
      "Number is even:  12\n",
      "Number is odd:  13\n",
      "Number is even:  14\n",
      "Number is odd:  15\n",
      "Number is even:  16\n",
      "Number is odd:  17\n",
      "Number is even:  18\n",
      "Number is odd:  19\n",
      "Number is even:  20\n",
      "Number is odd:  21\n",
      "Number is even:  22\n",
      "Number is odd:  23\n",
      "Number is even:  24\n",
      "Number is odd:  25\n",
      "Number is even:  26\n",
      "Number is odd:  27\n",
      "Number is even:  28\n",
      "Number is odd:  29\n",
      "Number is even:  30\n",
      "Number is odd:  31\n",
      "Number is even:  32\n",
      "Number is odd:  33\n",
      "Number is even:  34\n",
      "Number is odd:  35\n",
      "Number is even:  36\n",
      "Number is odd:  37\n",
      "Number is even:  38\n",
      "Number is odd:  39\n",
      "Number is even:  40\n",
      "Number is odd:  41\n",
      "Number is even:  42\n",
      "Number is odd:  43\n",
      "Number is even:  44\n",
      "Number is odd:  45\n",
      "Number is even:  46\n",
      "Number is odd:  47\n",
      "Number is even:  48\n",
      "Number is odd:  49\n",
      "Number is even:  50\n",
      "Number is odd:  51\n",
      "Number is even:  52\n",
      "Number is odd:  53\n",
      "Number is even:  54\n",
      "Number is odd:  55\n",
      "Number is even:  56\n",
      "Number is odd:  57\n",
      "Number is even:  58\n",
      "Number is odd:  59\n",
      "Number is even:  60\n",
      "Number is odd:  61\n",
      "Number is even:  62\n",
      "Number is odd:  63\n",
      "Number is even:  64\n",
      "Number is odd:  65\n",
      "Number is even:  66\n",
      "Number is odd:  67\n",
      "Number is even:  68\n",
      "Number is odd:  69\n",
      "Number is even:  70\n",
      "Number is odd:  71\n",
      "Number is even:  72\n",
      "Number is odd:  73\n",
      "Number is even:  74\n",
      "Number is odd:  75\n",
      "Number is even:  76\n",
      "Number is odd:  77\n",
      "Number is even:  78\n",
      "Number is odd:  79\n",
      "Number is even:  80\n",
      "Number is odd:  81\n",
      "Number is even:  82\n",
      "Number is odd:  83\n",
      "Number is even:  84\n",
      "Number is odd:  85\n",
      "Number is even:  86\n",
      "Number is odd:  87\n",
      "Number is even:  88\n",
      "Number is odd:  89\n",
      "Number is even:  90\n",
      "Number is odd:  91\n",
      "Number is even:  92\n",
      "Number is odd:  93\n",
      "Number is even:  94\n",
      "Number is odd:  95\n",
      "Number is even:  96\n",
      "Number is odd:  97\n",
      "Number is even:  98\n",
      "Number is odd:  99\n",
      "Number is even:  100\n"
     ]
    }
   ],
   "source": [
    "for i in range(1,101):\n",
    "    if i % 2 == 0:\n",
    "        print(\"Number is even: \", i)\n",
    "    if i % 2 != 0:\n",
    "        print(\"Number is odd: \", i)"
   ]
  },
  {
   "cell_type": "markdown",
   "metadata": {},
   "source": [
    "Q.5 Define a function to check whether a number is in a range (100,1000) or not in range?\n"
   ]
  },
  {
   "cell_type": "code",
   "execution_count": 15,
   "metadata": {},
   "outputs": [
    {
     "name": "stdout",
     "output_type": "stream",
     "text": [
      " 999 is in the range\n"
     ]
    }
   ],
   "source": [
    "def test_range(x):\n",
    "    if x in range(100,1000):\n",
    "        print( \" %s is in the range\"% str(x))\n",
    "    else :\n",
    "        print(\"The number is outside the given range.\")\n",
    "test_range(999)"
   ]
  },
  {
   "cell_type": "markdown",
   "metadata": {},
   "source": [
    "Q.6 Write a python code to find the factorial of any given number using a user-defined\n",
    "function?"
   ]
  },
  {
   "cell_type": "code",
   "execution_count": 3,
   "metadata": {},
   "outputs": [
    {
     "name": "stdout",
     "output_type": "stream",
     "text": [
      "3628800\n"
     ]
    }
   ],
   "source": [
    "def fact(n):\n",
    "      if n == 0 or n == 1:\n",
    "        return 1 \n",
    "      else:\n",
    "        return (n * fact(n-1))\n",
    "n = 10\n",
    "print(fact(n))"
   ]
  },
  {
   "cell_type": "markdown",
   "metadata": {},
   "source": [
    "Q.7 arr1 = np.array ([[545,421,156],\n",
    "[250,157,166],\n",
    "[640,325,356],\n",
    "[282,570,753]])\n",
    "Calculate Mean, Minimum, Maximum and SD of given array"
   ]
  },
  {
   "cell_type": "code",
   "execution_count": 8,
   "metadata": {},
   "outputs": [
    {
     "data": {
      "text/plain": [
       "array([[545, 421, 156],\n",
       "       [250, 157, 166],\n",
       "       [640, 325, 356],\n",
       "       [282, 570, 753]])"
      ]
     },
     "execution_count": 8,
     "metadata": {},
     "output_type": "execute_result"
    }
   ],
   "source": [
    "arr1 = np.array ([[545,421,156], [250,157,166], [640,325,356], [282,570,753]])\n",
    "arr1"
   ]
  },
  {
   "cell_type": "code",
   "execution_count": 19,
   "metadata": {},
   "outputs": [
    {
     "data": {
      "text/plain": [
       "385.0833333333333"
      ]
     },
     "execution_count": 19,
     "metadata": {},
     "output_type": "execute_result"
    }
   ],
   "source": [
    "np.mean(arr1)"
   ]
  },
  {
   "cell_type": "code",
   "execution_count": 9,
   "metadata": {},
   "outputs": [
    {
     "data": {
      "text/plain": [
       "385.0833333333333"
      ]
     },
     "execution_count": 9,
     "metadata": {},
     "output_type": "execute_result"
    }
   ],
   "source": [
    "arr1.mean()"
   ]
  },
  {
   "cell_type": "code",
   "execution_count": 20,
   "metadata": {},
   "outputs": [
    {
     "data": {
      "text/plain": [
       "156"
      ]
     },
     "execution_count": 20,
     "metadata": {},
     "output_type": "execute_result"
    }
   ],
   "source": [
    "np.min(arr1)"
   ]
  },
  {
   "cell_type": "code",
   "execution_count": 21,
   "metadata": {},
   "outputs": [
    {
     "data": {
      "text/plain": [
       "753"
      ]
     },
     "execution_count": 21,
     "metadata": {},
     "output_type": "execute_result"
    }
   ],
   "source": [
    "np.max(arr1)"
   ]
  },
  {
   "cell_type": "code",
   "execution_count": 23,
   "metadata": {},
   "outputs": [
    {
     "data": {
      "text/plain": [
       "193.05243602595527"
      ]
     },
     "execution_count": 23,
     "metadata": {},
     "output_type": "execute_result"
    }
   ],
   "source": [
    "arr1.std()"
   ]
  }
 ],
 "metadata": {
  "kernelspec": {
   "display_name": "Python 3",
   "language": "python",
   "name": "python3"
  },
  "language_info": {
   "codemirror_mode": {
    "name": "ipython",
    "version": 3
   },
   "file_extension": ".py",
   "mimetype": "text/x-python",
   "name": "python",
   "nbconvert_exporter": "python",
   "pygments_lexer": "ipython3",
   "version": "3.7.4"
  }
 },
 "nbformat": 4,
 "nbformat_minor": 2
}
